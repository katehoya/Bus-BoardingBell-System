{
 "cells": [
  {
   "cell_type": "code",
   "execution_count": null,
   "id": "6fbee22a-32dc-45b2-820b-c0d06d7810b1",
   "metadata": {},
   "outputs": [],
   "source": [
    "import matplotlib.pyplot as plt\n",
    "import traci\n",
    "import sumolib\n",
    "\n",
    "os.environ[\"SUMO_HOME\"] = \"C:/Users/82106/AppData/Roaming/Microsoft/Windows/Start Menu/Programs/SUMO/sumo-gui\"\n",
    "sumo_binary = \"C:/Program Files (x86)/Eclipse/Sumo/bin/sumo-gui.exe\"\n",
    "sumo_config = \"C:/Users/82106/Desktop/new_file/project/genuine - 복사본/osm4.sumocfg\"\n",
    "\n",
    "def start_sumo(sumo_binary, sumo_config):\n",
    "    traci.start([sumo_binary, \"-c\", sumo_config])\n",
    "    print(\"Simulation started\")\n",
    "\n",
    "def stop_sumo():\n",
    "    traci.close()\n",
    "    print(\"Simulstion ended\")\n",
    "\n",
    "def edge_density(target_edge, time):\n",
    "\n",
    "    density_data = {}\n",
    "\n",
    "    vehicles_on_edge = traci.edge.getLastStepVehicleIDs(target_edge)\n",
    "    len_edge = traci.edge.getLength(target_edge)\n",
    "    if len_edge > 0:\n",
    "        edge_density = len(vehicles_on_edge) / len_edge\n",
    "    else:\n",
    "        edge_density = 0\n",
    "        \n",
    "    density_data[time] = {\"edge_density (#/m)\" : edge_density}\n",
    "\n",
    "    return density_data\n",
    "\n",
    "def edge_speed_avg(target_edge):\n",
    "    avg_speed = traci.edge.getLastStepMeanSpeed(target_edge)\n",
    "    return avg_speed*3.6\n",
    "\n",
    "def vehicle_speed(vehicle_id):\n",
    "    return traci.vehicle.getSpeed(vehicle_id)\n",
    "\n",
    "def vehicle_position(vehicle_id):\n",
    "    return traci.vehicle.getPosition(vehicle_id)\n",
    "\n",
    "def vehicle_type(vehicle_id):\n",
    "    return traci.vehicle.getTypeID(vehicle_id)\n",
    "\n",
    "def plot_graph(title, x, y, colot = \"blue\"):\n",
    "    plt.figure(figsize(10,6))\n",
    "    plt.plot(x, y, marker=\"o\", color=color)\n",
    "    plt.title(title)\n",
    "    plt.grid(True)\n",
    "    plt.show()"
   ]
  }
 ],
 "metadata": {
  "kernelspec": {
   "display_name": "Python 3 (ipykernel)",
   "language": "python",
   "name": "python3"
  },
  "language_info": {
   "codemirror_mode": {
    "name": "ipython",
    "version": 3
   },
   "file_extension": ".py",
   "mimetype": "text/x-python",
   "name": "python",
   "nbconvert_exporter": "python",
   "pygments_lexer": "ipython3",
   "version": "3.11.7"
  }
 },
 "nbformat": 4,
 "nbformat_minor": 5
}
